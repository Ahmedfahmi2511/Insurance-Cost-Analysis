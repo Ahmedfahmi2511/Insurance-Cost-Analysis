{
 "cells": [
  {
   "cell_type": "code",
   "execution_count": null,
   "id": "041b654c-4ae5-4de5-abf2-3cf2e4e44fa2",
   "metadata": {},
   "outputs": [],
   "source": [
    "## import required libraries"
   ]
  },
  {
   "cell_type": "code",
   "execution_count": 4,
   "id": "c97d770a-6d43-4d5f-b8d9-afa3a1efa944",
   "metadata": {},
   "outputs": [],
   "source": [
    "import pandas as pd\n",
    "import numpy as np\n",
    "import seaborn as sns\n",
    "import matplotlib.pyplot as  plt \n",
    "from sklearn.pipeline import Pipeline\n",
    "from sklearn.preprocessing import StandardScaler, PolynomialFeatures\n",
    "from sklearn.linear_model import LinearRegression, Ridge\n",
    "from sklearn.metrics import mean_squared_error, r2_score\n",
    "from sklearn.model_selection import cross_val_score, train_test_split"
   ]
  },
  {
   "cell_type": "code",
   "execution_count": null,
   "id": "e328d492-5d08-4a5c-a64c-958050e89e47",
   "metadata": {},
   "outputs": [],
   "source": [
    "## import dataset"
   ]
  },
  {
   "cell_type": "code",
   "execution_count": 6,
   "id": "45e97ee3-f943-433f-96fb-68dec64fa737",
   "metadata": {},
   "outputs": [],
   "source": [
    "df = pd.read_csv(r\"D:\\praivate\\كورس\\data analyze\\project\\Insurance Cost Data Set\\D__praivate_كورس_data analyze_project_Insurance Cost Data Set_ewproject.csv\")"
   ]
  },
  {
   "cell_type": "code",
   "execution_count": null,
   "id": "28272f72-5cfa-45a9-9a0e-eb5fef3aca16",
   "metadata": {},
   "outputs": [],
   "source": [
    "## prepare dataset"
   ]
  },
  {
   "cell_type": "code",
   "execution_count": 7,
   "id": "e6498a28-1d9a-481f-adb0-763357ff6b77",
   "metadata": {},
   "outputs": [
    {
     "data": {
      "text/html": [
       "<div>\n",
       "<style scoped>\n",
       "    .dataframe tbody tr th:only-of-type {\n",
       "        vertical-align: middle;\n",
       "    }\n",
       "\n",
       "    .dataframe tbody tr th {\n",
       "        vertical-align: top;\n",
       "    }\n",
       "\n",
       "    .dataframe thead th {\n",
       "        text-align: right;\n",
       "    }\n",
       "</style>\n",
       "<table border=\"1\" class=\"dataframe\">\n",
       "  <thead>\n",
       "    <tr style=\"text-align: right;\">\n",
       "      <th></th>\n",
       "      <th>Unnamed: 0</th>\n",
       "      <th>19</th>\n",
       "      <th>1</th>\n",
       "      <th>27.9</th>\n",
       "      <th>0</th>\n",
       "      <th>1.1</th>\n",
       "      <th>3</th>\n",
       "      <th>16884.924</th>\n",
       "    </tr>\n",
       "  </thead>\n",
       "  <tbody>\n",
       "    <tr>\n",
       "      <th>0</th>\n",
       "      <td>0</td>\n",
       "      <td>18</td>\n",
       "      <td>2</td>\n",
       "      <td>33.770</td>\n",
       "      <td>1</td>\n",
       "      <td>0</td>\n",
       "      <td>4</td>\n",
       "      <td>1725.55230</td>\n",
       "    </tr>\n",
       "    <tr>\n",
       "      <th>1</th>\n",
       "      <td>1</td>\n",
       "      <td>28</td>\n",
       "      <td>2</td>\n",
       "      <td>33.000</td>\n",
       "      <td>3</td>\n",
       "      <td>0</td>\n",
       "      <td>4</td>\n",
       "      <td>4449.46200</td>\n",
       "    </tr>\n",
       "    <tr>\n",
       "      <th>2</th>\n",
       "      <td>2</td>\n",
       "      <td>33</td>\n",
       "      <td>2</td>\n",
       "      <td>22.705</td>\n",
       "      <td>0</td>\n",
       "      <td>0</td>\n",
       "      <td>1</td>\n",
       "      <td>21984.47061</td>\n",
       "    </tr>\n",
       "    <tr>\n",
       "      <th>3</th>\n",
       "      <td>3</td>\n",
       "      <td>32</td>\n",
       "      <td>2</td>\n",
       "      <td>28.880</td>\n",
       "      <td>0</td>\n",
       "      <td>0</td>\n",
       "      <td>1</td>\n",
       "      <td>3866.85520</td>\n",
       "    </tr>\n",
       "    <tr>\n",
       "      <th>4</th>\n",
       "      <td>4</td>\n",
       "      <td>31</td>\n",
       "      <td>1</td>\n",
       "      <td>25.740</td>\n",
       "      <td>0</td>\n",
       "      <td>?</td>\n",
       "      <td>4</td>\n",
       "      <td>3756.62160</td>\n",
       "    </tr>\n",
       "  </tbody>\n",
       "</table>\n",
       "</div>"
      ],
      "text/plain": [
       "   Unnamed: 0  19  1    27.9  0 1.1  3    16884.924\n",
       "0           0  18  2  33.770  1   0  4   1725.55230\n",
       "1           1  28  2  33.000  3   0  4   4449.46200\n",
       "2           2  33  2  22.705  0   0  1  21984.47061\n",
       "3           3  32  2  28.880  0   0  1   3866.85520\n",
       "4           4  31  1  25.740  0   ?  4   3756.62160"
      ]
     },
     "execution_count": 7,
     "metadata": {},
     "output_type": "execute_result"
    }
   ],
   "source": [
    "df.head()"
   ]
  },
  {
   "cell_type": "code",
   "execution_count": 8,
   "id": "7b324d11-373d-46cb-a919-dcf2959eb211",
   "metadata": {},
   "outputs": [
    {
     "name": "stdout",
     "output_type": "stream",
     "text": [
      "<class 'pandas.core.frame.DataFrame'>\n",
      "RangeIndex: 2771 entries, 0 to 2770\n",
      "Data columns (total 8 columns):\n",
      " #   Column      Non-Null Count  Dtype  \n",
      "---  ------      --------------  -----  \n",
      " 0   Unnamed: 0  2771 non-null   int64  \n",
      " 1   19          2771 non-null   object \n",
      " 2   1           2771 non-null   int64  \n",
      " 3   27.9        2771 non-null   float64\n",
      " 4   0           2771 non-null   int64  \n",
      " 5   1.1         2771 non-null   object \n",
      " 6   3           2771 non-null   int64  \n",
      " 7   16884.924   2771 non-null   float64\n",
      "dtypes: float64(2), int64(4), object(2)\n",
      "memory usage: 173.3+ KB\n"
     ]
    }
   ],
   "source": [
    "df.info()"
   ]
  },
  {
   "cell_type": "code",
   "execution_count": 16,
   "id": "db7bb620-7827-4d3f-84cd-59d5c3fcde2d",
   "metadata": {},
   "outputs": [],
   "source": [
    "df.drop('Unnamed: 0' , axis = 1 ,inplace =True)"
   ]
  },
  {
   "cell_type": "code",
   "execution_count": 17,
   "id": "d6e6ce8e-b263-475e-ba39-621a7d950818",
   "metadata": {},
   "outputs": [],
   "source": [
    "headers = [\"age\", \"gender\", \"bmi\", \"no_of_children\", \"smoker\", \"region\", \"charges\"]\n",
    "df.columns = headers"
   ]
  },
  {
   "cell_type": "code",
   "execution_count": 28,
   "id": "a4118590-1120-417b-97c0-949ea46c5d9c",
   "metadata": {},
   "outputs": [
    {
     "data": {
      "text/html": [
       "<div>\n",
       "<style scoped>\n",
       "    .dataframe tbody tr th:only-of-type {\n",
       "        vertical-align: middle;\n",
       "    }\n",
       "\n",
       "    .dataframe tbody tr th {\n",
       "        vertical-align: top;\n",
       "    }\n",
       "\n",
       "    .dataframe thead th {\n",
       "        text-align: right;\n",
       "    }\n",
       "</style>\n",
       "<table border=\"1\" class=\"dataframe\">\n",
       "  <thead>\n",
       "    <tr style=\"text-align: right;\">\n",
       "      <th></th>\n",
       "      <th>age</th>\n",
       "      <th>gender</th>\n",
       "      <th>bmi</th>\n",
       "      <th>no_of_children</th>\n",
       "      <th>smoker</th>\n",
       "      <th>region</th>\n",
       "      <th>charges</th>\n",
       "    </tr>\n",
       "  </thead>\n",
       "  <tbody>\n",
       "    <tr>\n",
       "      <th>0</th>\n",
       "      <td>18</td>\n",
       "      <td>2</td>\n",
       "      <td>33.770</td>\n",
       "      <td>1</td>\n",
       "      <td>0</td>\n",
       "      <td>4</td>\n",
       "      <td>1725.55230</td>\n",
       "    </tr>\n",
       "    <tr>\n",
       "      <th>1</th>\n",
       "      <td>28</td>\n",
       "      <td>2</td>\n",
       "      <td>33.000</td>\n",
       "      <td>3</td>\n",
       "      <td>0</td>\n",
       "      <td>4</td>\n",
       "      <td>4449.46200</td>\n",
       "    </tr>\n",
       "    <tr>\n",
       "      <th>2</th>\n",
       "      <td>33</td>\n",
       "      <td>2</td>\n",
       "      <td>22.705</td>\n",
       "      <td>0</td>\n",
       "      <td>0</td>\n",
       "      <td>1</td>\n",
       "      <td>21984.47061</td>\n",
       "    </tr>\n",
       "    <tr>\n",
       "      <th>3</th>\n",
       "      <td>32</td>\n",
       "      <td>2</td>\n",
       "      <td>28.880</td>\n",
       "      <td>0</td>\n",
       "      <td>0</td>\n",
       "      <td>1</td>\n",
       "      <td>3866.85520</td>\n",
       "    </tr>\n",
       "    <tr>\n",
       "      <th>4</th>\n",
       "      <td>31</td>\n",
       "      <td>1</td>\n",
       "      <td>25.740</td>\n",
       "      <td>0</td>\n",
       "      <td>0</td>\n",
       "      <td>4</td>\n",
       "      <td>3756.62160</td>\n",
       "    </tr>\n",
       "  </tbody>\n",
       "</table>\n",
       "</div>"
      ],
      "text/plain": [
       "  age  gender     bmi  no_of_children smoker  region      charges\n",
       "0  18       2  33.770               1      0       4   1725.55230\n",
       "1  28       2  33.000               3      0       4   4449.46200\n",
       "2  33       2  22.705               0      0       1  21984.47061\n",
       "3  32       2  28.880               0      0       1   3866.85520\n",
       "4  31       1  25.740               0      0       4   3756.62160"
      ]
     },
     "execution_count": 28,
     "metadata": {},
     "output_type": "execute_result"
    }
   ],
   "source": [
    "df.head()"
   ]
  },
  {
   "cell_type": "code",
   "execution_count": 24,
   "id": "c1d3f5a1-e0fb-4f66-8a07-6e56c371b428",
   "metadata": {},
   "outputs": [],
   "source": [
    "## Clean data"
   ]
  },
  {
   "cell_type": "code",
   "execution_count": 22,
   "id": "896c0b38-7a8d-4fe8-a85f-3b8c162fbf58",
   "metadata": {},
   "outputs": [],
   "source": [
    "df.replace('?' ,np.nan ,inplace=True)"
   ]
  },
  {
   "cell_type": "code",
   "execution_count": 29,
   "id": "2aa82218-098c-4329-843e-4b0920aaccde",
   "metadata": {},
   "outputs": [],
   "source": [
    "# smoker is a categorical attribute, replace with most frequent entry\n",
    "is_smoker = df['smoker'].value_counts().idxmax()\n",
    "df['smoker'].replace(np.nan,is_smoker,inplace=True)\n",
    "\n",
    "# age is a continuous variable, replace with mean age\n",
    "mean_age = df['age'].astype('float').mean()\n",
    "df['age'].replace(np.nan,mean_age,inplace=True)\n",
    "\n",
    "# Update data types\n",
    "df[[\"age\",\"smoker\"]] = df[[\"age\",\"smoker\"]].astype(\"int\")"
   ]
  },
  {
   "cell_type": "code",
   "execution_count": 31,
   "id": "825b8b27-108b-4a95-ad61-c6176ddaa313",
   "metadata": {},
   "outputs": [
    {
     "name": "stdout",
     "output_type": "stream",
     "text": [
      "<class 'pandas.core.frame.DataFrame'>\n",
      "RangeIndex: 2771 entries, 0 to 2770\n",
      "Data columns (total 7 columns):\n",
      " #   Column          Non-Null Count  Dtype  \n",
      "---  ------          --------------  -----  \n",
      " 0   age             2771 non-null   int32  \n",
      " 1   gender          2771 non-null   int64  \n",
      " 2   bmi             2771 non-null   float64\n",
      " 3   no_of_children  2771 non-null   int64  \n",
      " 4   smoker          2771 non-null   int32  \n",
      " 5   region          2771 non-null   int64  \n",
      " 6   charges         2771 non-null   float64\n",
      "dtypes: float64(2), int32(2), int64(3)\n",
      "memory usage: 130.0 KB\n",
      "None\n"
     ]
    }
   ],
   "source": [
    "print(df.info())"
   ]
  },
  {
   "cell_type": "code",
   "execution_count": 32,
   "id": "37d963fb-a3c1-486c-9412-416ff47b4180",
   "metadata": {},
   "outputs": [],
   "source": [
    "## Exploratory Data Analysis"
   ]
  },
  {
   "cell_type": "code",
   "execution_count": 34,
   "id": "d2908a51-c3ab-44b9-afab-bbee96601404",
   "metadata": {},
   "outputs": [
    {
     "data": {
      "text/plain": [
       "(0.0, 66902.8557155)"
      ]
     },
     "execution_count": 34,
     "metadata": {},
     "output_type": "execute_result"
    },
    {
     "data": {
      "image/png": "[encoded data removed]",
      "text/plain": [
       "<Figure size 640x480 with 1 Axes>"
      ]
     },
     "metadata": {},
     "output_type": "display_data"
    }
   ],
   "source": [
    "## Emplement regression plot charages with respect bmi\n",
    "sns.regplot(x='bmi' ,y='charges' ,data=df,line_kws={\"color\": \"red\"})\n",
    "plt.ylim(0,)"
   ]
  },
  {
   "cell_type": "code",
   "execution_count": 35,
   "id": "c9914823-3cb7-4a4f-abd8-d9522f15ee80",
   "metadata": {},
   "outputs": [
    {
     "data": {
      "text/plain": [
       "<Axes: xlabel='smoker', ylabel='charges'>"
      ]
     },
     "execution_count": 35,
     "metadata": {},
     "output_type": "execute_result"
    },
    {
     "data": {
      "image/png": "[encoded data removed]",
      "text/plain": [
       "<Figure size 640x480 with 1 Axes>"
      ]
     },
     "metadata": {},
     "output_type": "display_data"
    }
   ],
   "source": [
    "## implement boxplot charges with respect to smoker\n",
    "sns.boxplot(x='smoker', y='charges', data=df)"
   ]
  },
  {
   "cell_type": "code",
   "execution_count": 36,
   "id": "95b521df-4e42-4dec-bb3a-619cb517c69b",
   "metadata": {},
   "outputs": [
    {
     "name": "stdout",
     "output_type": "stream",
     "text": [
      "                     age    gender       bmi  no_of_children    smoker  \\\n",
      "age             1.000000 -0.026584  0.112859        0.037126 -0.022290   \n",
      "gender         -0.026584  1.000000  0.042766        0.015693  0.083125   \n",
      "bmi             0.112859  0.042766  1.000000       -0.001642  0.011824   \n",
      "no_of_children  0.037126  0.015693 -0.001642        1.000000  0.007016   \n",
      "smoker         -0.022290  0.083125  0.011824        0.007016  1.000000   \n",
      "region         -0.006969  0.022360  0.271200       -0.025594  0.053839   \n",
      "charges         0.298892  0.062959  0.199906        0.066551  0.789141   \n",
      "\n",
      "                  region   charges  \n",
      "age            -0.006969  0.298892  \n",
      "gender          0.022360  0.062959  \n",
      "bmi             0.271200  0.199906  \n",
      "no_of_children -0.025594  0.066551  \n",
      "smoker          0.053839  0.789141  \n",
      "region          1.000000  0.054018  \n",
      "charges         0.054018  1.000000  \n"
     ]
    }
   ],
   "source": [
    "## Print the correlation matrix for the dataset\n",
    "print(df.corr() )"
   ]
  },
  {
   "cell_type": "code",
   "execution_count": 37,
   "id": "9c6c631d-e31c-4ac0-8cdd-29cdb1b03c67",
   "metadata": {},
   "outputs": [],
   "source": [
    "## model development"
   ]
  },
  {
   "cell_type": "code",
   "execution_count": 40,
   "id": "bc3f8c67-967e-4947-9f5f-4ec321167e08",
   "metadata": {},
   "outputs": [
    {
     "name": "stdout",
     "output_type": "stream",
     "text": [
      "0.6227430384081845\n"
     ]
    }
   ],
   "source": [
    "##Fit a linear regression model that may be used to predict the `charges` value, just by using the `smoker` attribute of the dataset.\n",
    "X = df[['smoker']]\n",
    "Y = df['charges']\n",
    "lm = LinearRegression()\n",
    "lm.fit(X,Y)\n",
    "print(lm.score(X, Y))"
   ]
  },
  {
   "cell_type": "code",
   "execution_count": 41,
   "id": "fbd4272c-98b3-47a1-9802-7458a019151e",
   "metadata": {},
   "outputs": [
    {
     "name": "stdout",
     "output_type": "stream",
     "text": [
      "0.7505888658724134\n"
     ]
    }
   ],
   "source": [
    "## Fit a linear regression model that may be used to predict the `charges` value, just by using all other attributes of the dataset.\n",
    "Z = df[[\"age\", \"gender\", \"bmi\", \"no_of_children\", \"smoker\", \"region\"]]\n",
    "lm.fit(Z,Y)\n",
    "print(lm.score(Z, Y))"
   ]
  },
  {
   "cell_type": "code",
   "execution_count": 42,
   "id": "d1deac9f-68fb-4936-8c2a-daff02c737e6",
   "metadata": {},
   "outputs": [
    {
     "name": "stdout",
     "output_type": "stream",
     "text": [
      "0.8453697242562691\n"
     ]
    }
   ],
   "source": [
    " ## Create a training pipeline that uses `StandardScaler()`, `PolynomialFeatures()` and `LinearRegression()` \n",
    "## to create a model that can predict the `charges` value using all the other attributes of the dataset. \n",
    "# Y and Z use the same values as defined in previous cells \n",
    "Input=[('scale',StandardScaler()), ('polynomial', PolynomialFeatures(include_bias=False)), ('model', LinearRegression())]\n",
    "pipe=Pipeline(Input)\n",
    "Z = Z.astype(float)\n",
    "pipe.fit(Z,Y)\n",
    "ypipe=pipe.predict(Z)\n",
    "print(r2_score(Y,ypipe))\n",
    "\n"
   ]
  },
  {
   "cell_type": "code",
   "execution_count": 43,
   "id": "a9a55f13-62c0-4d55-9ed7-6985fe66ed34",
   "metadata": {},
   "outputs": [],
   "source": [
    "# Split the data into training and testing subsets, assuming that 20% of the data will be reserved for testing.\n",
    "# Z and Y hold same values as in previous cells\n",
    "x_train, x_test, y_train, y_test = train_test_split(Z, Y, test_size=0.2, random_state=1)"
   ]
  },
  {
   "cell_type": "code",
   "execution_count": 44,
   "id": "340570ba-b1e2-4f96-8ab6-b94db74740b7",
   "metadata": {},
   "outputs": [
    {
     "name": "stdout",
     "output_type": "stream",
     "text": [
      "0.7254198907320977\n"
     ]
    }
   ],
   "source": [
    "#Initialize a Ridge regressor that used hyperparameter $ \\alpha = 0.1 $. Fit the model using training data data subset.\n",
    "# # x_train, x_test, y_train, y_test hold same values as in previous cells\n",
    "RidgeModel=Ridge(alpha=0.1)\n",
    "RidgeModel.fit(x_train, y_train)\n",
    "yhat = RidgeModel.predict(x_test)\n",
    "print(r2_score(y_test,yhat))\n"
   ]
  },
  {
   "cell_type": "code",
   "execution_count": 45,
   "id": "258319ef-828e-466e-b577-bdb52e2b9eb2",
   "metadata": {},
   "outputs": [
    {
     "name": "stdout",
     "output_type": "stream",
     "text": [
      "0.8208413223345822\n"
     ]
    }
   ],
   "source": [
    "# Apply polynomial transformation to the training parameters with degree=2. \n",
    "# Use this transformed feature set to fit the same regression model, as above, using the training subset. \n",
    "# x_train, x_test, y_train, y_test hold same values as in previous cells\n",
    "pr = PolynomialFeatures(degree=2)\n",
    "x_train_pr = pr.fit_transform(x_train)\n",
    "x_test_pr = pr.fit_transform(x_test)\n",
    "RidgeModel.fit(x_train_pr, y_train)\n",
    "y_hat = RidgeModel.predict(x_test_pr)\n",
    "print(r2_score(y_test,y_hat))"
   ]
  },
  {
   "cell_type": "code",
   "execution_count": null,
   "id": "fb1a00c7-42c6-4016-a5dc-fb025c38e7e3",
   "metadata": {},
   "outputs": [],
   "source": []
  }
 ],
 "metadata": {
  "kernelspec": {
   "display_name": "Python 3 (ipykernel)",
   "language": "python",
   "name": "python3"
  },
  "language_info": {
   "codemirror_mode": {
    "name": "ipython",
    "version": 3
   },
   "file_extension": ".py",
   "mimetype": "text/x-python",
   "name": "python",
   "nbconvert_exporter": "python",
   "pygments_lexer": "ipython3",
   "version": "3.11.7"
  }
 },
 "nbformat": 4,
 "nbformat_minor": 5
}
